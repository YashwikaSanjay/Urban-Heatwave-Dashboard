{
 "cells": [
  {
   "cell_type": "markdown",
   "id": "a0260417-36ad-4e17-b535-754e4d206c70",
   "metadata": {},
   "source": [
    "## Cleaning"
   ]
  },
  {
   "cell_type": "code",
   "execution_count": 1,
   "id": "e7c4c87c-a188-4427-a4af-d54b9184d4a1",
   "metadata": {},
   "outputs": [],
   "source": [
    "import pandas as pd\n",
    "df = pd.read_csv(\"kolkata.csv\", skiprows=9)"
   ]
  },
  {
   "cell_type": "code",
   "execution_count": 2,
   "id": "81382fa4-599e-4708-abee-9333860b1123",
   "metadata": {},
   "outputs": [
    {
     "data": {
      "text/html": [
       "<div>\n",
       "<style scoped>\n",
       "    .dataframe tbody tr th:only-of-type {\n",
       "        vertical-align: middle;\n",
       "    }\n",
       "\n",
       "    .dataframe tbody tr th {\n",
       "        vertical-align: top;\n",
       "    }\n",
       "\n",
       "    .dataframe thead th {\n",
       "        text-align: right;\n",
       "    }\n",
       "</style>\n",
       "<table border=\"1\" class=\"dataframe\">\n",
       "  <thead>\n",
       "    <tr style=\"text-align: right;\">\n",
       "      <th></th>\n",
       "      <th>YEAR</th>\n",
       "      <th>DOY</th>\n",
       "      <th>T2M_MAX</th>\n",
       "    </tr>\n",
       "  </thead>\n",
       "  <tbody>\n",
       "    <tr>\n",
       "      <th>0</th>\n",
       "      <td>2002</td>\n",
       "      <td>121</td>\n",
       "      <td>40.67</td>\n",
       "    </tr>\n",
       "    <tr>\n",
       "      <th>1</th>\n",
       "      <td>2002</td>\n",
       "      <td>122</td>\n",
       "      <td>39.94</td>\n",
       "    </tr>\n",
       "    <tr>\n",
       "      <th>2</th>\n",
       "      <td>2002</td>\n",
       "      <td>123</td>\n",
       "      <td>41.18</td>\n",
       "    </tr>\n",
       "    <tr>\n",
       "      <th>3</th>\n",
       "      <td>2002</td>\n",
       "      <td>124</td>\n",
       "      <td>40.96</td>\n",
       "    </tr>\n",
       "    <tr>\n",
       "      <th>4</th>\n",
       "      <td>2002</td>\n",
       "      <td>125</td>\n",
       "      <td>40.80</td>\n",
       "    </tr>\n",
       "  </tbody>\n",
       "</table>\n",
       "</div>"
      ],
      "text/plain": [
       "   YEAR  DOY  T2M_MAX\n",
       "0  2002  121    40.67\n",
       "1  2002  122    39.94\n",
       "2  2002  123    41.18\n",
       "3  2002  124    40.96\n",
       "4  2002  125    40.80"
      ]
     },
     "execution_count": 2,
     "metadata": {},
     "output_type": "execute_result"
    }
   ],
   "source": [
    "df.head()"
   ]
  },
  {
   "cell_type": "code",
   "execution_count": 3,
   "id": "32f5ad2f-18df-4563-a9e9-e75acd249a3e",
   "metadata": {},
   "outputs": [],
   "source": [
    "df.dropna(inplace=True)\n",
    "df[df.isnull().any(axis=1)]\n",
    "df['DATE'] = pd.to_datetime(df['YEAR'].astype(str) + df['DOY'].astype(str), format='%Y%j').dt.strftime('%d-%m-%Y')\n",
    "df.drop(df.columns[[1]], axis=1)\n",
    "df = df[['DATE', 'T2M_MAX', 'YEAR']]\n",
    "df['HEATWAVE'] = df['T2M_MAX'] > 40\n",
    "df['CITY'] = 'Kolkata'\n"
   ]
  },
  {
   "cell_type": "code",
   "execution_count": 4,
   "id": "7e008245-740c-46f8-ae8d-0cb243db4593",
   "metadata": {},
   "outputs": [
    {
     "data": {
      "text/html": [
       "<div>\n",
       "<style scoped>\n",
       "    .dataframe tbody tr th:only-of-type {\n",
       "        vertical-align: middle;\n",
       "    }\n",
       "\n",
       "    .dataframe tbody tr th {\n",
       "        vertical-align: top;\n",
       "    }\n",
       "\n",
       "    .dataframe thead th {\n",
       "        text-align: right;\n",
       "    }\n",
       "</style>\n",
       "<table border=\"1\" class=\"dataframe\">\n",
       "  <thead>\n",
       "    <tr style=\"text-align: right;\">\n",
       "      <th></th>\n",
       "      <th>DATE</th>\n",
       "      <th>T2M_MAX</th>\n",
       "      <th>YEAR</th>\n",
       "      <th>HEATWAVE</th>\n",
       "      <th>CITY</th>\n",
       "    </tr>\n",
       "  </thead>\n",
       "  <tbody>\n",
       "    <tr>\n",
       "      <th>0</th>\n",
       "      <td>01-05-2002</td>\n",
       "      <td>40.67</td>\n",
       "      <td>2002</td>\n",
       "      <td>True</td>\n",
       "      <td>Kolkata</td>\n",
       "    </tr>\n",
       "    <tr>\n",
       "      <th>1</th>\n",
       "      <td>02-05-2002</td>\n",
       "      <td>39.94</td>\n",
       "      <td>2002</td>\n",
       "      <td>False</td>\n",
       "      <td>Kolkata</td>\n",
       "    </tr>\n",
       "    <tr>\n",
       "      <th>2</th>\n",
       "      <td>03-05-2002</td>\n",
       "      <td>41.18</td>\n",
       "      <td>2002</td>\n",
       "      <td>True</td>\n",
       "      <td>Kolkata</td>\n",
       "    </tr>\n",
       "    <tr>\n",
       "      <th>3</th>\n",
       "      <td>04-05-2002</td>\n",
       "      <td>40.96</td>\n",
       "      <td>2002</td>\n",
       "      <td>True</td>\n",
       "      <td>Kolkata</td>\n",
       "    </tr>\n",
       "    <tr>\n",
       "      <th>4</th>\n",
       "      <td>05-05-2002</td>\n",
       "      <td>40.80</td>\n",
       "      <td>2002</td>\n",
       "      <td>True</td>\n",
       "      <td>Kolkata</td>\n",
       "    </tr>\n",
       "  </tbody>\n",
       "</table>\n",
       "</div>"
      ],
      "text/plain": [
       "         DATE  T2M_MAX  YEAR  HEATWAVE     CITY\n",
       "0  01-05-2002    40.67  2002      True  Kolkata\n",
       "1  02-05-2002    39.94  2002     False  Kolkata\n",
       "2  03-05-2002    41.18  2002      True  Kolkata\n",
       "3  04-05-2002    40.96  2002      True  Kolkata\n",
       "4  05-05-2002    40.80  2002      True  Kolkata"
      ]
     },
     "execution_count": 4,
     "metadata": {},
     "output_type": "execute_result"
    }
   ],
   "source": [
    "df.head()"
   ]
  },
  {
   "cell_type": "code",
   "execution_count": 5,
   "id": "6aa2f279-651f-4a31-9f28-c370933bb737",
   "metadata": {},
   "outputs": [],
   "source": [
    "df.to_csv(\"cleaned_kolkata.csv\", index=False)"
   ]
  },
  {
   "cell_type": "markdown",
   "id": "7f702435-4452-467a-b454-8a894e3d858a",
   "metadata": {},
   "source": [
    "## Population"
   ]
  },
  {
   "cell_type": "code",
   "execution_count": 6,
   "id": "cb809f81-55c9-40e1-8f1e-bbbfa9914af5",
   "metadata": {},
   "outputs": [
    {
     "name": "stdout",
     "output_type": "stream",
     "text": [
      "    YEAR  POPULATION\n",
      "0   2001     4572876\n",
      "1   2002     4565257\n",
      "2   2003     4557639\n",
      "3   2004     4550021\n",
      "4   2005     4542403\n",
      "5   2006     4534785\n",
      "6   2007     4527166\n",
      "7   2008     4519548\n",
      "8   2009     4511930\n",
      "9   2010     4504312\n",
      "10  2011     4496694\n"
     ]
    }
   ],
   "source": [
    "import numpy as np\n",
    "import pandas as pd\n",
    "# 2001 and 2011 population\n",
    "years = [2001, 2011]\n",
    "population = [4572876, 4496694]\n",
    "\n",
    "# interpolate for 2002 to 2010\n",
    "interp_years = np.arange(2001, 2012)\n",
    "interp_population = np.interp(interp_years, years, population)\n",
    "\n",
    "# create dataframe \n",
    "df_pop = pd.DataFrame({\n",
    "    'YEAR': interp_years,\n",
    "    'POPULATION': interp_population.astype(int)\n",
    "})\n",
    "print(df_pop)"
   ]
  },
  {
   "cell_type": "code",
   "execution_count": 7,
   "id": "04cd97ba-5b6f-415a-bb04-adb316e16dd2",
   "metadata": {},
   "outputs": [],
   "source": [
    "# extrapoliate"
   ]
  },
  {
   "cell_type": "code",
   "execution_count": 8,
   "id": "5a5a490a-87da-4daa-8828-28aca50baee5",
   "metadata": {},
   "outputs": [],
   "source": [
    "growth_rate = ((4496694/4572876)**(1/10))-1"
   ]
  },
  {
   "cell_type": "code",
   "execution_count": 9,
   "id": "f76cd442-0c1a-4f0a-a9b7-7c563821628c",
   "metadata": {},
   "outputs": [],
   "source": [
    "df_pop = df_pop[df_pop['YEAR'] < 2012].copy()"
   ]
  },
  {
   "cell_type": "code",
   "execution_count": 10,
   "id": "77c138c0-4b34-4267-b273-8c0f8ee33d58",
   "metadata": {},
   "outputs": [],
   "source": [
    "for year in range(2012, 2023):\n",
    "    last_pop = df_pop.loc[df_pop['YEAR'] == year - 1, 'POPULATION'].values[0]\n",
    "    new_pop = last_pop * (1 + growth_rate)\n",
    "    df_pop.loc[len(df_pop)] = [year, int(new_pop)]\n",
    "df_pop = df_pop.sort_values('YEAR').reset_index(drop=True)"
   ]
  },
  {
   "cell_type": "code",
   "execution_count": 11,
   "id": "dceb5c1c-18f3-4ece-999a-2020efef1c36",
   "metadata": {},
   "outputs": [
    {
     "name": "stdout",
     "output_type": "stream",
     "text": [
      "    YEAR  POPULATION\n",
      "7   2008     4519548\n",
      "8   2009     4511930\n",
      "9   2010     4504312\n",
      "10  2011     4496694\n",
      "11  2012     4489145\n",
      "12  2013     4481609\n",
      "13  2014     4474086\n",
      "14  2015     4466575\n",
      "15  2016     4459077\n",
      "16  2017     4451592\n",
      "17  2018     4444119\n",
      "18  2019     4436659\n",
      "19  2020     4429211\n",
      "20  2021     4421776\n",
      "21  2022     4414353\n"
     ]
    }
   ],
   "source": [
    "print(df_pop.tail(15))"
   ]
  },
  {
   "cell_type": "code",
   "execution_count": 12,
   "id": "eef994e7-6ef6-42fc-955c-fd64a2c41850",
   "metadata": {},
   "outputs": [],
   "source": [
    "df_pop.to_csv(\"population_kolkata.csv\", index=False)"
   ]
  },
  {
   "cell_type": "markdown",
   "id": "2780c5f6-2a57-43ef-b880-52ede2fa8e10",
   "metadata": {},
   "source": [
    "## Merging"
   ]
  },
  {
   "cell_type": "code",
   "execution_count": 13,
   "id": "ca665b2b-2bc5-4402-bd5c-f29805b50cff",
   "metadata": {},
   "outputs": [],
   "source": [
    "import pandas as pd\n",
    "df1 = pd.read_csv(\"cleaned_kolkata.csv\")\n",
    "df2 = pd.read_csv(\"population_kolkata.csv\")\n",
    "# merging\n",
    "merged_df = pd.merge(df1, df2, on='YEAR', how='left')"
   ]
  },
  {
   "cell_type": "code",
   "execution_count": 14,
   "id": "989d0854-cd3b-439e-ab43-2c4c080a4915",
   "metadata": {},
   "outputs": [],
   "source": [
    "merged_df.to_csv(\"merged_kolkata.csv\", index=False)"
   ]
  },
  {
   "cell_type": "code",
   "execution_count": null,
   "id": "eb711657-39e5-432f-8f15-63cb1d710b46",
   "metadata": {},
   "outputs": [],
   "source": []
  }
 ],
 "metadata": {
  "kernelspec": {
   "display_name": "Python 3 (ipykernel)",
   "language": "python",
   "name": "python3"
  },
  "language_info": {
   "codemirror_mode": {
    "name": "ipython",
    "version": 3
   },
   "file_extension": ".py",
   "mimetype": "text/x-python",
   "name": "python",
   "nbconvert_exporter": "python",
   "pygments_lexer": "ipython3",
   "version": "3.12.7"
  }
 },
 "nbformat": 4,
 "nbformat_minor": 5
}
