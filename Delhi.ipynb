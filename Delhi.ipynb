{
 "cells": [
  {
   "cell_type": "markdown",
   "id": "e7974d1e-072e-4958-80ba-ee53e1c45c58",
   "metadata": {},
   "source": [
    "## Cleaning"
   ]
  },
  {
   "cell_type": "code",
   "execution_count": 1,
   "id": "559a90de-6bd5-4f34-bca9-ef63692c8394",
   "metadata": {},
   "outputs": [],
   "source": [
    "import pandas as pd\n",
    "df = pd.read_csv(\"delhi.csv\", skiprows=9)"
   ]
  },
  {
   "cell_type": "code",
   "execution_count": 2,
   "id": "323d7faf-f6ea-4282-89b7-3252a0d50735",
   "metadata": {},
   "outputs": [
    {
     "data": {
      "text/html": [
       "<div>\n",
       "<style scoped>\n",
       "    .dataframe tbody tr th:only-of-type {\n",
       "        vertical-align: middle;\n",
       "    }\n",
       "\n",
       "    .dataframe tbody tr th {\n",
       "        vertical-align: top;\n",
       "    }\n",
       "\n",
       "    .dataframe thead th {\n",
       "        text-align: right;\n",
       "    }\n",
       "</style>\n",
       "<table border=\"1\" class=\"dataframe\">\n",
       "  <thead>\n",
       "    <tr style=\"text-align: right;\">\n",
       "      <th></th>\n",
       "      <th>YEAR</th>\n",
       "      <th>DOY</th>\n",
       "      <th>T2M_MAX</th>\n",
       "    </tr>\n",
       "  </thead>\n",
       "  <tbody>\n",
       "    <tr>\n",
       "      <th>0</th>\n",
       "      <td>2002</td>\n",
       "      <td>121</td>\n",
       "      <td>42.79</td>\n",
       "    </tr>\n",
       "    <tr>\n",
       "      <th>1</th>\n",
       "      <td>2002</td>\n",
       "      <td>122</td>\n",
       "      <td>43.63</td>\n",
       "    </tr>\n",
       "    <tr>\n",
       "      <th>2</th>\n",
       "      <td>2002</td>\n",
       "      <td>123</td>\n",
       "      <td>44.57</td>\n",
       "    </tr>\n",
       "    <tr>\n",
       "      <th>3</th>\n",
       "      <td>2002</td>\n",
       "      <td>124</td>\n",
       "      <td>45.19</td>\n",
       "    </tr>\n",
       "    <tr>\n",
       "      <th>4</th>\n",
       "      <td>2002</td>\n",
       "      <td>125</td>\n",
       "      <td>45.76</td>\n",
       "    </tr>\n",
       "  </tbody>\n",
       "</table>\n",
       "</div>"
      ],
      "text/plain": [
       "   YEAR  DOY  T2M_MAX\n",
       "0  2002  121    42.79\n",
       "1  2002  122    43.63\n",
       "2  2002  123    44.57\n",
       "3  2002  124    45.19\n",
       "4  2002  125    45.76"
      ]
     },
     "execution_count": 2,
     "metadata": {},
     "output_type": "execute_result"
    }
   ],
   "source": [
    "df.head()"
   ]
  },
  {
   "cell_type": "code",
   "execution_count": 3,
   "id": "34423ac9-4d57-4785-93f0-bfbdc949130c",
   "metadata": {},
   "outputs": [],
   "source": [
    "df.dropna(inplace=True)\n",
    "df[df.isnull().any(axis=1)]\n",
    "df['DATE'] = pd.to_datetime(df['YEAR'].astype(str) + df['DOY'].astype(str), format='%Y%j').dt.strftime('%d-%m-%Y')\n"
   ]
  },
  {
   "cell_type": "code",
   "execution_count": 4,
   "id": "9174e008-0a1f-4c5e-8f1a-f6225de5cc76",
   "metadata": {},
   "outputs": [
    {
     "data": {
      "text/html": [
       "<div>\n",
       "<style scoped>\n",
       "    .dataframe tbody tr th:only-of-type {\n",
       "        vertical-align: middle;\n",
       "    }\n",
       "\n",
       "    .dataframe tbody tr th {\n",
       "        vertical-align: top;\n",
       "    }\n",
       "\n",
       "    .dataframe thead th {\n",
       "        text-align: right;\n",
       "    }\n",
       "</style>\n",
       "<table border=\"1\" class=\"dataframe\">\n",
       "  <thead>\n",
       "    <tr style=\"text-align: right;\">\n",
       "      <th></th>\n",
       "      <th>YEAR</th>\n",
       "      <th>DOY</th>\n",
       "      <th>T2M_MAX</th>\n",
       "      <th>DATE</th>\n",
       "    </tr>\n",
       "  </thead>\n",
       "  <tbody>\n",
       "    <tr>\n",
       "      <th>0</th>\n",
       "      <td>2002</td>\n",
       "      <td>121</td>\n",
       "      <td>42.79</td>\n",
       "      <td>01-05-2002</td>\n",
       "    </tr>\n",
       "    <tr>\n",
       "      <th>1</th>\n",
       "      <td>2002</td>\n",
       "      <td>122</td>\n",
       "      <td>43.63</td>\n",
       "      <td>02-05-2002</td>\n",
       "    </tr>\n",
       "    <tr>\n",
       "      <th>2</th>\n",
       "      <td>2002</td>\n",
       "      <td>123</td>\n",
       "      <td>44.57</td>\n",
       "      <td>03-05-2002</td>\n",
       "    </tr>\n",
       "    <tr>\n",
       "      <th>3</th>\n",
       "      <td>2002</td>\n",
       "      <td>124</td>\n",
       "      <td>45.19</td>\n",
       "      <td>04-05-2002</td>\n",
       "    </tr>\n",
       "    <tr>\n",
       "      <th>4</th>\n",
       "      <td>2002</td>\n",
       "      <td>125</td>\n",
       "      <td>45.76</td>\n",
       "      <td>05-05-2002</td>\n",
       "    </tr>\n",
       "  </tbody>\n",
       "</table>\n",
       "</div>"
      ],
      "text/plain": [
       "   YEAR  DOY  T2M_MAX        DATE\n",
       "0  2002  121    42.79  01-05-2002\n",
       "1  2002  122    43.63  02-05-2002\n",
       "2  2002  123    44.57  03-05-2002\n",
       "3  2002  124    45.19  04-05-2002\n",
       "4  2002  125    45.76  05-05-2002"
      ]
     },
     "execution_count": 4,
     "metadata": {},
     "output_type": "execute_result"
    }
   ],
   "source": [
    "df.head()"
   ]
  },
  {
   "cell_type": "code",
   "execution_count": 5,
   "id": "6abd4d5d-ec7c-4331-81a2-a8ec13c0032c",
   "metadata": {},
   "outputs": [],
   "source": [
    "df.drop(df.columns[[1]], axis=1)\n",
    "df = df[['DATE', 'T2M_MAX', 'YEAR']]"
   ]
  },
  {
   "cell_type": "code",
   "execution_count": 6,
   "id": "dc8d1588-8271-49c5-b907-f396b049c2c5",
   "metadata": {},
   "outputs": [
    {
     "data": {
      "text/html": [
       "<div>\n",
       "<style scoped>\n",
       "    .dataframe tbody tr th:only-of-type {\n",
       "        vertical-align: middle;\n",
       "    }\n",
       "\n",
       "    .dataframe tbody tr th {\n",
       "        vertical-align: top;\n",
       "    }\n",
       "\n",
       "    .dataframe thead th {\n",
       "        text-align: right;\n",
       "    }\n",
       "</style>\n",
       "<table border=\"1\" class=\"dataframe\">\n",
       "  <thead>\n",
       "    <tr style=\"text-align: right;\">\n",
       "      <th></th>\n",
       "      <th>DATE</th>\n",
       "      <th>T2M_MAX</th>\n",
       "      <th>YEAR</th>\n",
       "    </tr>\n",
       "  </thead>\n",
       "  <tbody>\n",
       "    <tr>\n",
       "      <th>0</th>\n",
       "      <td>01-05-2002</td>\n",
       "      <td>42.79</td>\n",
       "      <td>2002</td>\n",
       "    </tr>\n",
       "    <tr>\n",
       "      <th>1</th>\n",
       "      <td>02-05-2002</td>\n",
       "      <td>43.63</td>\n",
       "      <td>2002</td>\n",
       "    </tr>\n",
       "    <tr>\n",
       "      <th>2</th>\n",
       "      <td>03-05-2002</td>\n",
       "      <td>44.57</td>\n",
       "      <td>2002</td>\n",
       "    </tr>\n",
       "    <tr>\n",
       "      <th>3</th>\n",
       "      <td>04-05-2002</td>\n",
       "      <td>45.19</td>\n",
       "      <td>2002</td>\n",
       "    </tr>\n",
       "    <tr>\n",
       "      <th>4</th>\n",
       "      <td>05-05-2002</td>\n",
       "      <td>45.76</td>\n",
       "      <td>2002</td>\n",
       "    </tr>\n",
       "  </tbody>\n",
       "</table>\n",
       "</div>"
      ],
      "text/plain": [
       "         DATE  T2M_MAX  YEAR\n",
       "0  01-05-2002    42.79  2002\n",
       "1  02-05-2002    43.63  2002\n",
       "2  03-05-2002    44.57  2002\n",
       "3  04-05-2002    45.19  2002\n",
       "4  05-05-2002    45.76  2002"
      ]
     },
     "execution_count": 6,
     "metadata": {},
     "output_type": "execute_result"
    }
   ],
   "source": [
    "df.head()"
   ]
  },
  {
   "cell_type": "code",
   "execution_count": 8,
   "id": "f9771109-040d-45fd-a601-834d034c2b87",
   "metadata": {},
   "outputs": [],
   "source": [
    "df['HEATWAVE'] = df['T2M_MAX'] > 40\n",
    "df['CITY'] = 'Delhi'"
   ]
  },
  {
   "cell_type": "code",
   "execution_count": 9,
   "id": "64a591cf-386e-4db0-b80a-10314a9bef92",
   "metadata": {},
   "outputs": [
    {
     "data": {
      "text/html": [
       "<div>\n",
       "<style scoped>\n",
       "    .dataframe tbody tr th:only-of-type {\n",
       "        vertical-align: middle;\n",
       "    }\n",
       "\n",
       "    .dataframe tbody tr th {\n",
       "        vertical-align: top;\n",
       "    }\n",
       "\n",
       "    .dataframe thead th {\n",
       "        text-align: right;\n",
       "    }\n",
       "</style>\n",
       "<table border=\"1\" class=\"dataframe\">\n",
       "  <thead>\n",
       "    <tr style=\"text-align: right;\">\n",
       "      <th></th>\n",
       "      <th>DATE</th>\n",
       "      <th>T2M_MAX</th>\n",
       "      <th>YEAR</th>\n",
       "      <th>HEATWAVE</th>\n",
       "      <th>CITY</th>\n",
       "    </tr>\n",
       "  </thead>\n",
       "  <tbody>\n",
       "    <tr>\n",
       "      <th>0</th>\n",
       "      <td>01-05-2002</td>\n",
       "      <td>42.79</td>\n",
       "      <td>2002</td>\n",
       "      <td>True</td>\n",
       "      <td>Delhi</td>\n",
       "    </tr>\n",
       "    <tr>\n",
       "      <th>1</th>\n",
       "      <td>02-05-2002</td>\n",
       "      <td>43.63</td>\n",
       "      <td>2002</td>\n",
       "      <td>True</td>\n",
       "      <td>Delhi</td>\n",
       "    </tr>\n",
       "    <tr>\n",
       "      <th>2</th>\n",
       "      <td>03-05-2002</td>\n",
       "      <td>44.57</td>\n",
       "      <td>2002</td>\n",
       "      <td>True</td>\n",
       "      <td>Delhi</td>\n",
       "    </tr>\n",
       "    <tr>\n",
       "      <th>3</th>\n",
       "      <td>04-05-2002</td>\n",
       "      <td>45.19</td>\n",
       "      <td>2002</td>\n",
       "      <td>True</td>\n",
       "      <td>Delhi</td>\n",
       "    </tr>\n",
       "    <tr>\n",
       "      <th>4</th>\n",
       "      <td>05-05-2002</td>\n",
       "      <td>45.76</td>\n",
       "      <td>2002</td>\n",
       "      <td>True</td>\n",
       "      <td>Delhi</td>\n",
       "    </tr>\n",
       "  </tbody>\n",
       "</table>\n",
       "</div>"
      ],
      "text/plain": [
       "         DATE  T2M_MAX  YEAR  HEATWAVE   CITY\n",
       "0  01-05-2002    42.79  2002      True  Delhi\n",
       "1  02-05-2002    43.63  2002      True  Delhi\n",
       "2  03-05-2002    44.57  2002      True  Delhi\n",
       "3  04-05-2002    45.19  2002      True  Delhi\n",
       "4  05-05-2002    45.76  2002      True  Delhi"
      ]
     },
     "execution_count": 9,
     "metadata": {},
     "output_type": "execute_result"
    }
   ],
   "source": [
    "df.head()"
   ]
  },
  {
   "cell_type": "code",
   "execution_count": 10,
   "id": "4d4dcf90-7692-486a-bb2f-771b47ea2781",
   "metadata": {},
   "outputs": [],
   "source": [
    "df.to_csv(\"cleaned_delhi.csv\", index=False)"
   ]
  },
  {
   "cell_type": "markdown",
   "id": "8c385df2-72ef-4dba-9833-236181cf2ebd",
   "metadata": {},
   "source": [
    "## Population"
   ]
  },
  {
   "cell_type": "code",
   "execution_count": 1,
   "id": "5d9e6d2a-a158-418c-8da7-d7d87f33b09f",
   "metadata": {},
   "outputs": [
    {
     "name": "stdout",
     "output_type": "stream",
     "text": [
      "    YEAR  POPULATION\n",
      "0   2001    13204122\n",
      "1   2002    13562503\n",
      "2   2003    13920885\n",
      "3   2004    14279267\n",
      "4   2005    14637649\n",
      "5   2006    14996031\n",
      "6   2007    15354413\n",
      "7   2008    15712795\n",
      "8   2009    16071177\n",
      "9   2010    16429559\n",
      "10  2011    16787941\n"
     ]
    }
   ],
   "source": [
    "import numpy as np\n",
    "import pandas as pd\n",
    "# 2001 and 2011 population\n",
    "years = [2001, 2011]\n",
    "population = [13204122, 16787941]\n",
    "\n",
    "# interpolate for 2002 to 2010\n",
    "interp_years = np.arange(2001, 2012)\n",
    "interp_population = np.interp(interp_years, years, population)\n",
    "\n",
    "# create dataframe \n",
    "df_pop = pd.DataFrame({\n",
    "    'YEAR': interp_years,\n",
    "    'POPULATION': interp_population.astype(int)\n",
    "})\n",
    "print(df_pop)"
   ]
  },
  {
   "cell_type": "code",
   "execution_count": 7,
   "id": "f1c8b32d-dec0-4ac4-b190-d8d5857cbf35",
   "metadata": {},
   "outputs": [],
   "source": [
    "# extrapoliate"
   ]
  },
  {
   "cell_type": "code",
   "execution_count": 13,
   "id": "8a01f04f-0b88-4317-9506-e8680e36387c",
   "metadata": {},
   "outputs": [],
   "source": [
    "growth_rate = ((16787941/13204122)**(1/10))-1\n"
   ]
  },
  {
   "cell_type": "code",
   "execution_count": 14,
   "id": "b311dfa4-6ba9-4226-bb6f-a7e0fcf6ada6",
   "metadata": {},
   "outputs": [],
   "source": [
    "df_pop = df_pop[df_pop['YEAR'] < 2012].copy()"
   ]
  },
  {
   "cell_type": "code",
   "execution_count": 15,
   "id": "8b4b8786-3980-4c93-851f-5056bf8f59d4",
   "metadata": {},
   "outputs": [],
   "source": [
    "for year in range(2012, 2023):\n",
    "    last_pop = df_pop.loc[df_pop['YEAR'] == year - 1, 'POPULATION'].values[0]\n",
    "    new_pop = last_pop * (1 + growth_rate)\n",
    "    df_pop.loc[len(df_pop)] = [year, int(new_pop)]\n",
    "df_pop = df_pop.sort_values('YEAR').reset_index(drop=True)"
   ]
  },
  {
   "cell_type": "code",
   "execution_count": 16,
   "id": "99ffc9c3-c7fe-467f-9e26-1916961d891a",
   "metadata": {},
   "outputs": [],
   "source": [
    "df_pop.to_csv(\"population_delhi.csv\", index=False)"
   ]
  },
  {
   "cell_type": "markdown",
   "id": "6e4ef328-d771-45b3-8f7d-1b988c45491b",
   "metadata": {},
   "source": [
    "## Merging"
   ]
  },
  {
   "cell_type": "code",
   "execution_count": 17,
   "id": "0e4789d4-196d-4845-967c-66161a58fa5b",
   "metadata": {},
   "outputs": [],
   "source": [
    "import pandas as pd\n",
    "df1 = pd.read_csv(\"cleaned_delhi.csv\")\n",
    "df2 = pd.read_csv(\"population_delhi.csv\")\n",
    "# merging\n",
    "merged_df = pd.merge(df1, df2, on='YEAR', how='left')"
   ]
  },
  {
   "cell_type": "code",
   "execution_count": 18,
   "id": "2d6c6799-8d14-43fb-9e06-f29915330e22",
   "metadata": {},
   "outputs": [],
   "source": [
    "merged_df.to_csv(\"merged_delhi.csv\", index=False)"
   ]
  },
  {
   "cell_type": "code",
   "execution_count": null,
   "id": "8a02987f-76ee-45f1-ac05-53741612a860",
   "metadata": {},
   "outputs": [],
   "source": []
  }
 ],
 "metadata": {
  "kernelspec": {
   "display_name": "Python 3 (ipykernel)",
   "language": "python",
   "name": "python3"
  },
  "language_info": {
   "codemirror_mode": {
    "name": "ipython",
    "version": 3
   },
   "file_extension": ".py",
   "mimetype": "text/x-python",
   "name": "python",
   "nbconvert_exporter": "python",
   "pygments_lexer": "ipython3",
   "version": "3.12.7"
  }
 },
 "nbformat": 4,
 "nbformat_minor": 5
}
