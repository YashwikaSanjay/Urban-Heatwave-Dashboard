{
 "cells": [
  {
   "cell_type": "markdown",
   "id": "1d813f33-5b34-4c66-b634-0c71970ffe62",
   "metadata": {},
   "source": [
    "## Cleaning"
   ]
  },
  {
   "cell_type": "code",
   "execution_count": 1,
   "id": "6640b6b5-d26e-4fe1-8ecf-0619b73d975e",
   "metadata": {},
   "outputs": [],
   "source": [
    "import pandas as pd\n",
    "df = pd.read_csv(\"bangalore.csv\", skiprows=9)"
   ]
  },
  {
   "cell_type": "code",
   "execution_count": 2,
   "id": "acae379d-d352-40d2-804a-3317552e30dc",
   "metadata": {},
   "outputs": [
    {
     "data": {
      "text/html": [
       "<div>\n",
       "<style scoped>\n",
       "    .dataframe tbody tr th:only-of-type {\n",
       "        vertical-align: middle;\n",
       "    }\n",
       "\n",
       "    .dataframe tbody tr th {\n",
       "        vertical-align: top;\n",
       "    }\n",
       "\n",
       "    .dataframe thead th {\n",
       "        text-align: right;\n",
       "    }\n",
       "</style>\n",
       "<table border=\"1\" class=\"dataframe\">\n",
       "  <thead>\n",
       "    <tr style=\"text-align: right;\">\n",
       "      <th></th>\n",
       "      <th>YEAR</th>\n",
       "      <th>DOY</th>\n",
       "      <th>T2M_MAX</th>\n",
       "    </tr>\n",
       "  </thead>\n",
       "  <tbody>\n",
       "    <tr>\n",
       "      <th>0</th>\n",
       "      <td>2002</td>\n",
       "      <td>121</td>\n",
       "      <td>39.88</td>\n",
       "    </tr>\n",
       "    <tr>\n",
       "      <th>1</th>\n",
       "      <td>2002</td>\n",
       "      <td>122</td>\n",
       "      <td>38.06</td>\n",
       "    </tr>\n",
       "    <tr>\n",
       "      <th>2</th>\n",
       "      <td>2002</td>\n",
       "      <td>123</td>\n",
       "      <td>37.77</td>\n",
       "    </tr>\n",
       "    <tr>\n",
       "      <th>3</th>\n",
       "      <td>2002</td>\n",
       "      <td>124</td>\n",
       "      <td>35.57</td>\n",
       "    </tr>\n",
       "    <tr>\n",
       "      <th>4</th>\n",
       "      <td>2002</td>\n",
       "      <td>125</td>\n",
       "      <td>38.87</td>\n",
       "    </tr>\n",
       "  </tbody>\n",
       "</table>\n",
       "</div>"
      ],
      "text/plain": [
       "   YEAR  DOY  T2M_MAX\n",
       "0  2002  121    39.88\n",
       "1  2002  122    38.06\n",
       "2  2002  123    37.77\n",
       "3  2002  124    35.57\n",
       "4  2002  125    38.87"
      ]
     },
     "execution_count": 2,
     "metadata": {},
     "output_type": "execute_result"
    }
   ],
   "source": [
    "df.head()"
   ]
  },
  {
   "cell_type": "code",
   "execution_count": 3,
   "id": "085a0d7f-e2db-4898-aa79-f929320dba7e",
   "metadata": {},
   "outputs": [],
   "source": [
    "df.dropna(inplace=True)\n",
    "df[df.isnull().any(axis=1)]\n",
    "df['DATE'] = pd.to_datetime(df['YEAR'].astype(str) + df['DOY'].astype(str), format='%Y%j').dt.strftime('%d-%m-%Y')"
   ]
  },
  {
   "cell_type": "code",
   "execution_count": 4,
   "id": "0705f931-d640-4cca-80e8-ece57fd3b07a",
   "metadata": {},
   "outputs": [],
   "source": [
    "df.drop(df.columns[[1]], axis=1)\n",
    "df = df[['DATE', 'T2M_MAX', 'YEAR']]"
   ]
  },
  {
   "cell_type": "code",
   "execution_count": 5,
   "id": "5b4180ef-0b67-4154-ad62-56a2ebe2b7ab",
   "metadata": {},
   "outputs": [],
   "source": [
    "df['HEATWAVE'] = df['T2M_MAX'] > 40\n",
    "df['CITY'] = 'Bengaluru'"
   ]
  },
  {
   "cell_type": "code",
   "execution_count": 6,
   "id": "68df51d6-8774-4555-955e-02403db4cdc1",
   "metadata": {},
   "outputs": [
    {
     "data": {
      "text/html": [
       "<div>\n",
       "<style scoped>\n",
       "    .dataframe tbody tr th:only-of-type {\n",
       "        vertical-align: middle;\n",
       "    }\n",
       "\n",
       "    .dataframe tbody tr th {\n",
       "        vertical-align: top;\n",
       "    }\n",
       "\n",
       "    .dataframe thead th {\n",
       "        text-align: right;\n",
       "    }\n",
       "</style>\n",
       "<table border=\"1\" class=\"dataframe\">\n",
       "  <thead>\n",
       "    <tr style=\"text-align: right;\">\n",
       "      <th></th>\n",
       "      <th>DATE</th>\n",
       "      <th>T2M_MAX</th>\n",
       "      <th>YEAR</th>\n",
       "      <th>HEATWAVE</th>\n",
       "      <th>CITY</th>\n",
       "    </tr>\n",
       "  </thead>\n",
       "  <tbody>\n",
       "    <tr>\n",
       "      <th>0</th>\n",
       "      <td>01-05-2002</td>\n",
       "      <td>39.88</td>\n",
       "      <td>2002</td>\n",
       "      <td>False</td>\n",
       "      <td>Bengaluru</td>\n",
       "    </tr>\n",
       "    <tr>\n",
       "      <th>1</th>\n",
       "      <td>02-05-2002</td>\n",
       "      <td>38.06</td>\n",
       "      <td>2002</td>\n",
       "      <td>False</td>\n",
       "      <td>Bengaluru</td>\n",
       "    </tr>\n",
       "    <tr>\n",
       "      <th>2</th>\n",
       "      <td>03-05-2002</td>\n",
       "      <td>37.77</td>\n",
       "      <td>2002</td>\n",
       "      <td>False</td>\n",
       "      <td>Bengaluru</td>\n",
       "    </tr>\n",
       "    <tr>\n",
       "      <th>3</th>\n",
       "      <td>04-05-2002</td>\n",
       "      <td>35.57</td>\n",
       "      <td>2002</td>\n",
       "      <td>False</td>\n",
       "      <td>Bengaluru</td>\n",
       "    </tr>\n",
       "    <tr>\n",
       "      <th>4</th>\n",
       "      <td>05-05-2002</td>\n",
       "      <td>38.87</td>\n",
       "      <td>2002</td>\n",
       "      <td>False</td>\n",
       "      <td>Bengaluru</td>\n",
       "    </tr>\n",
       "  </tbody>\n",
       "</table>\n",
       "</div>"
      ],
      "text/plain": [
       "         DATE  T2M_MAX  YEAR  HEATWAVE       CITY\n",
       "0  01-05-2002    39.88  2002     False  Bengaluru\n",
       "1  02-05-2002    38.06  2002     False  Bengaluru\n",
       "2  03-05-2002    37.77  2002     False  Bengaluru\n",
       "3  04-05-2002    35.57  2002     False  Bengaluru\n",
       "4  05-05-2002    38.87  2002     False  Bengaluru"
      ]
     },
     "execution_count": 6,
     "metadata": {},
     "output_type": "execute_result"
    }
   ],
   "source": [
    "df.head()"
   ]
  },
  {
   "cell_type": "code",
   "execution_count": 7,
   "id": "62361c18-7798-4194-a4d2-e5bd01441702",
   "metadata": {},
   "outputs": [],
   "source": [
    "df.to_csv(\"cleaned_bangalore.csv\", index=False)"
   ]
  },
  {
   "cell_type": "markdown",
   "id": "b43e0e8e-61ff-4a54-b242-f9c00e136935",
   "metadata": {},
   "source": [
    "## Population"
   ]
  },
  {
   "cell_type": "code",
   "execution_count": 20,
   "id": "9f056342-5757-4967-8ae0-d55cfb24cec8",
   "metadata": {},
   "outputs": [
    {
     "name": "stdout",
     "output_type": "stream",
     "text": [
      "    YEAR  POPULATION\n",
      "0   2001     6537124\n",
      "1   2002     6845566\n",
      "2   2003     7154009\n",
      "3   2004     7462452\n",
      "4   2005     7770894\n",
      "5   2006     8079337\n",
      "6   2007     8387780\n",
      "7   2008     8696222\n",
      "8   2009     9004665\n",
      "9   2010     9313108\n",
      "10  2011     9621551\n"
     ]
    }
   ],
   "source": [
    "import numpy as np\n",
    "import pandas as pd\n",
    "# 2001 and 2011 population\n",
    "years = [2001, 2011]\n",
    "population = [6537124, 9621551]\n",
    "\n",
    "# interpolate for 2002 to 2010\n",
    "interp_years = np.arange(2001, 2012)\n",
    "interp_population = np.interp(interp_years, years, population)\n",
    "\n",
    "# create dataframe \n",
    "df_pop = pd.DataFrame({\n",
    "    'YEAR': interp_years,\n",
    "    'POPULATION': interp_population.astype(int)\n",
    "})\n",
    "print(df_pop)"
   ]
  },
  {
   "cell_type": "code",
   "execution_count": 18,
   "id": "11666ca2-f2db-483d-a823-dd05d4131da8",
   "metadata": {},
   "outputs": [],
   "source": [
    "growth_rate = ((9621551/6537124)**(1/10))-1"
   ]
  },
  {
   "cell_type": "code",
   "execution_count": 21,
   "id": "f80c2bcd-4dbd-4c0a-85fd-87a977500246",
   "metadata": {},
   "outputs": [],
   "source": [
    "df_pop = df_pop[df_pop['YEAR'] < 2012].copy()"
   ]
  },
  {
   "cell_type": "code",
   "execution_count": 22,
   "id": "ad881288-3477-4f3f-884c-5260ea61abbb",
   "metadata": {},
   "outputs": [],
   "source": [
    "for year in range(2012, 2023):\n",
    "    last_pop = df_pop.loc[df_pop['YEAR'] == year - 1, 'POPULATION'].values[0]\n",
    "    new_pop = last_pop * (1 + growth_rate)\n",
    "    df_pop.loc[len(df_pop)] = [year, int(new_pop)]\n",
    "df_pop = df_pop.sort_values('YEAR').reset_index(drop=True)\n"
   ]
  },
  {
   "cell_type": "code",
   "execution_count": 23,
   "id": "d834c974-ed48-4f05-96c7-d1890bc95b5a",
   "metadata": {},
   "outputs": [
    {
     "name": "stdout",
     "output_type": "stream",
     "text": [
      "    YEAR  POPULATION\n",
      "7   2008     8696222\n",
      "8   2009     9004665\n",
      "9   2010     9313108\n",
      "10  2011     9621551\n",
      "11  2012    10000712\n",
      "12  2013    10394814\n",
      "13  2014    10804447\n",
      "14  2015    11230222\n",
      "15  2016    11672776\n",
      "16  2017    12132770\n",
      "17  2018    12610891\n",
      "18  2019    13107854\n",
      "19  2020    13624401\n",
      "20  2021    14161304\n",
      "21  2022    14719365\n"
     ]
    }
   ],
   "source": [
    "print(df_pop.tail(15))"
   ]
  },
  {
   "cell_type": "code",
   "execution_count": 24,
   "id": "84dc1b3c-3450-4341-9820-3975b3adbb25",
   "metadata": {},
   "outputs": [],
   "source": [
    "df_pop.to_csv(\"population_bangalore.csv\", index=False)"
   ]
  },
  {
   "cell_type": "markdown",
   "id": "9bdda65d-7ff7-476b-808f-89f9e42301c5",
   "metadata": {},
   "source": [
    "## Merging"
   ]
  },
  {
   "cell_type": "code",
   "execution_count": 25,
   "id": "ac623c6d-f7e1-4ba4-a1e9-0d0aa527b367",
   "metadata": {},
   "outputs": [],
   "source": [
    "import pandas as pd\n",
    "df1 = pd.read_csv(\"cleaned_bangalore.csv\")\n",
    "df2 = pd.read_csv(\"population_bangalore.csv\")\n",
    "# merging\n",
    "merged_df = pd.merge(df1, df2, on='YEAR', how='left')"
   ]
  },
  {
   "cell_type": "code",
   "execution_count": 26,
   "id": "9d56cd9b-b489-490b-ad5c-72ec7f7df070",
   "metadata": {},
   "outputs": [],
   "source": [
    "merged_df.to_csv(\"merged_bangalore.csv\", index=False)"
   ]
  },
  {
   "cell_type": "code",
   "execution_count": null,
   "id": "fc5277a1-ac77-4546-91d6-fb10163ab9e9",
   "metadata": {},
   "outputs": [],
   "source": []
  }
 ],
 "metadata": {
  "kernelspec": {
   "display_name": "Python 3 (ipykernel)",
   "language": "python",
   "name": "python3"
  },
  "language_info": {
   "codemirror_mode": {
    "name": "ipython",
    "version": 3
   },
   "file_extension": ".py",
   "mimetype": "text/x-python",
   "name": "python",
   "nbconvert_exporter": "python",
   "pygments_lexer": "ipython3",
   "version": "3.12.7"
  }
 },
 "nbformat": 4,
 "nbformat_minor": 5
}
